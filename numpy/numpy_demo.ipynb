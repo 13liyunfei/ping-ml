{
 "cells": [
  {
   "cell_type": "code",
   "execution_count": 1,
   "metadata": {
    "collapsed": true
   },
   "outputs": [],
   "source": [
    "import numpy as np"
   ]
  },
  {
   "cell_type": "code",
   "execution_count": 9,
   "metadata": {},
   "outputs": [
    {
     "name": "stdout",
     "output_type": "stream",
     "text": [
      "array_int 结构:(4,),类型:int64\n",
      "array_int2 结构:(1, 4),类型:int64\n",
      "array_float 结构:(1, 4),类型:float64\n",
      "array_str 结构:(1, 3),类型:<U1\n",
      "string 转 float: [[ 1.  2.  3.]]\n",
      "string 转 int: [[1 2 3]]\n"
     ]
    }
   ],
   "source": [
    "# array()构建数据\n",
    "## 一维向量\n",
    "array_int = np.array([1,2,3,4])\n",
    "## 二维矩阵\n",
    "array_int2 = np.array([[1,2,3,4]])\n",
    "array_float = np.array([[1,2,3.2,4.2]])\n",
    "array_str = np.array([['1','2','3']])\n",
    "print('array_int 结构:%s,类型:%s' % (array_int.shape, array_int.dtype))\n",
    "print('array_int2 结构:%s,类型:%s' % (array_int2.shape, array_int2.dtype))\n",
    "print('array_float 结构:%s,类型:%s' % (array_float.shape, array_float.dtype))\n",
    "print('array_str 结构:%s,类型:%s' % (array_str.shape, array_str.dtype))\n",
    "# string 转 float\n",
    "print('string 转 float:',array_str.astype(float))\n",
    "# string 转 int\n",
    "print('string 转 int:',array_str.astype(int))"
   ]
  },
  {
   "cell_type": "code",
   "execution_count": 14,
   "metadata": {},
   "outputs": [
    {
     "name": "stdout",
     "output_type": "stream",
     "text": [
      "[[ 0.  0.  0.  0.]\n",
      " [ 0.  0.  0.  0.]\n",
      " [ 0.  0.  0.  0.]]\n",
      "[[[0 0]\n",
      "  [0 0]\n",
      "  [0 0]\n",
      "  [0 0]]\n",
      "\n",
      " [[0 0]\n",
      "  [0 0]\n",
      "  [0 0]\n",
      "  [0 0]]\n",
      "\n",
      " [[0 0]\n",
      "  [0 0]\n",
      "  [0 0]\n",
      "  [0 0]]]\n",
      "[[ 1.  1.  1.  1.]\n",
      " [ 1.  1.  1.  1.]\n",
      " [ 1.  1.  1.  1.]]\n"
     ]
    }
   ],
   "source": [
    "# zeros()构建0矩阵,ones()构建1矩阵\n",
    "# 传入一个元祖\n",
    "# 默认是float\n",
    "z34 = np.zeros((3,4))\n",
    "print(z34)\n",
    "# 构建int类型\n",
    "z342 = np.zeros((3,4,2), dtype=int)\n",
    "print(z342)\n",
    "o34 = np.ones((3,4))\n",
    "print(o34)"
   ]
  },
  {
   "cell_type": "code",
   "execution_count": 27,
   "metadata": {},
   "outputs": [
    {
     "name": "stdout",
     "output_type": "stream",
     "text": [
      "[0 1 2 3 4 5 6 7 8 9]\n",
      "[10 20 30 40]\n"
     ]
    }
   ],
   "source": [
    "# arange() 构建一个范围内按指定步长递增的一维向量\n",
    "# 长度为10,从0开始按1递增的数据\n",
    "arange = np.arange(10)\n",
    "print(arange)\n",
    "# 参数1:开始值(结果集包含),参数2:结束值(结果集不包含),参数3:步长\n",
    "# 包头不包尾\n",
    "arange2 = np.arange(10, 50, 10)\n",
    "print(arange2)"
   ]
  },
  {
   "cell_type": "code",
   "execution_count": 21,
   "metadata": {},
   "outputs": [
    {
     "name": "stdout",
     "output_type": "stream",
     "text": [
      "[[ 0.19010461  0.09791892  0.3055099 ]\n",
      " [ 0.58409401  0.74023192  0.15811656]]\n",
      "[[[ 0.39933368  0.72922064  0.34157938  0.670021  ]\n",
      "  [ 0.07346094  0.12586792  0.78116751  0.60135374]\n",
      "  [ 0.44419465  0.44073223  0.67254448  0.009588  ]]\n",
      "\n",
      " [[ 0.13035328  0.10183933  0.8892667   0.93296164]\n",
      "  [ 0.98915126  0.64918839  0.18210391  0.14351237]\n",
      "  [ 0.90421395  0.78730896  0.32516972  0.91761342]]]\n"
     ]
    }
   ],
   "source": [
    "# random() 构建一个指定结构的多维矩阵,矩阵内的数据是在0-1范围内的随机数据\n",
    "r23 = np.random.random((2,3))\n",
    "r234 = np.random.random((2,3,4))\n",
    "print(r23)\n",
    "print(r234)"
   ]
  },
  {
   "cell_type": "code",
   "execution_count": 25,
   "metadata": {},
   "outputs": [
    {
     "name": "stdout",
     "output_type": "stream",
     "text": [
      "[ 1.          1.11111111  1.22222222  1.33333333  1.44444444  1.55555556\n",
      "  1.66666667  1.77777778  1.88888889  2.        ]\n",
      "[ 1.   1.1  1.2  1.3  1.4  1.5  1.6  1.7  1.8  1.9]\n"
     ]
    }
   ],
   "source": [
    "# linspace() 构建一个范围内的固定个数的一维向量,数据是按平均数递增\n",
    "# 包头包尾\n",
    "linspace = np.linspace(1,2,10)\n",
    "print(linspace)\n",
    "# 包头不包尾\n",
    "linspace2 = np.linspace(1,2,10,endpoint=False)\n",
    "print(linspace2)"
   ]
  },
  {
   "cell_type": "code",
   "execution_count": 31,
   "metadata": {},
   "outputs": [
    {
     "name": "stdout",
     "output_type": "stream",
     "text": [
      "[0 1 2 3 4 5 6 7 8 9]\n",
      "[[0 1 2 3 4]\n",
      " [5 6 7 8 9]]\n",
      "[[0 5]\n",
      " [1 6]\n",
      " [2 7]\n",
      " [3 8]\n",
      " [4 9]]\n",
      "[[[0 1 2 3 4]]\n",
      "\n",
      " [[5 6 7 8 9]]]\n"
     ]
    }
   ],
   "source": [
    "# reshape() 改变矩阵的结构\n",
    "a10 = np.arange(10)\n",
    "print(a10)\n",
    "# 一维矩阵变二维矩阵,参数1:行,参数2:列\n",
    "a25 = a10.reshape(2,5)\n",
    "print(a25)\n",
    "print(a25.T)\n",
    "# 二维矩阵变三维矩阵\n",
    "a215 = a25.reshape(2,1,5)\n",
    "print(a215)"
   ]
  },
  {
   "cell_type": "code",
   "execution_count": 79,
   "metadata": {},
   "outputs": [
    {
     "name": "stdout",
     "output_type": "stream",
     "text": [
      "[ 0  1  2  3  4  5  6  7  8  9 10 11 12 13 14 15 16 17 18 19 20 21 22 23 24\n",
      " 25 26 27 28 29 30 31 32 33 34 35 36 37 38 39 40 41 42 43 44 45 46 47 48 49]\n",
      "一维向量取一个数: 1\n",
      "一维向量取一组数据(包头不包尾): [1 2 3 4 5 6 7 8]\n",
      "一维向量取这个索引之后所有的数据: [ 1  2  3  4  5  6  7  8  9 10 11 12 13 14 15 16 17 18 19 20 21 22 23 24 25\n",
      " 26 27 28 29 30 31 32 33 34 35 36 37 38 39 40 41 42 43 44 45 46 47 48 49]\n",
      "一维向量取这个索引之前所有的数据: [0 1 2 3 4 5 6]\n",
      "一维向量从尾部按索引取数: [47 48]\n",
      "[[ 0  1  2  3  4  5  6  7  8  9]\n",
      " [10 11 12 13 14 15 16 17 18 19]\n",
      " [20 21 22 23 24 25 26 27 28 29]\n",
      " [30 31 32 33 34 35 36 37 38 39]\n",
      " [40 41 42 43 44 45 46 47 48 49]]\n",
      "二维矩阵取一行: [10 11 12 13 14 15 16 17 18 19]\n",
      "二维矩阵取一列: [ 1 11 21 31 41]\n",
      "二维矩阵取行范围数据(包头不包尾):\n",
      " [[10 11 12 13 14 15 16 17 18 19]\n",
      " [20 21 22 23 24 25 26 27 28 29]]\n",
      "二维矩阵取列范围数据(包头不包尾):\n",
      " [[ 1  2]\n",
      " [11 12]\n",
      " [21 22]\n",
      " [31 32]\n",
      " [41 42]]\n",
      "二维矩阵取具体某个值: 11\n",
      "二维矩阵取行列范围数据(包头不包尾):\n",
      " [[ 1  2  3]\n",
      " [11 12 13]]\n",
      "[[ True False  True False  True False  True False  True False]\n",
      " [ True False  True False  True False  True False  True False]\n",
      " [ True False  True False  True False  True False  True False]\n",
      " [ True False  True False  True False  True False  True False]\n",
      " [ True False  True False  True False  True False  True False]]\n",
      "取出被2整除的所有数据: [ 0  2  4  6  8 10 12 14 16 18 20 22 24 26 28 30 32 34 36 38 40 42 44 46 48]\n",
      "取出第3列中被4整除的所有行数据 [[10 11 12 13 14 15 16 17 18 19]\n",
      " [30 31 32 33 34 35 36 37 38 39]]\n",
      "取出被2和3都能整除的所有数据: [ 0  6 12 18 24 30 36 42 48]\n",
      "取出被2或者3能整除的所有数据: [ 0  2  3  4  6  8  9 10 12 14 15 16 18 20 21 22 24 26 27 28 30 32 33 34 36\n",
      " 38 39 40 42 44 45 46 48]\n",
      "第二列的数据都乘以10: [ 10 110 210 310 410]\n",
      "被2整除的数据都乘以10: [  0  20  40  60  80 100 120 140 160 180 200 220 240 260 280 300 320 340\n",
      " 360 380 400 420 440 460 480]\n"
     ]
    }
   ],
   "source": [
    "# 索引数据\n",
    "# 一维向量\n",
    "n50 = np.arange(50)\n",
    "print(n50)\n",
    "print('一维向量取一个数:',n50[1])\n",
    "print('一维向量取一组数据(包头不包尾):',n50[1:9])\n",
    "print('一维向量取这个索引之后所有的数据:',n50[1:])\n",
    "print('一维向量取这个索引之前所有的数据:',n50[:7])\n",
    "print('一维向量从尾部按索引取数:',n50[-3:-1])\n",
    "# 二维矩阵\n",
    "n510 = n50.reshape(5,10)\n",
    "print(n510)\n",
    "print('二维矩阵取一行:',n510[1])\n",
    "print('二维矩阵取一列:',n510[:,1])\n",
    "print('二维矩阵取行范围数据(包头不包尾):\\n',n510[1:3])\n",
    "print('二维矩阵取列范围数据(包头不包尾):\\n',n510[:,1:3])\n",
    "print('二维矩阵取具体某个值:',n510[1,1])\n",
    "print('二维矩阵取行列范围数据(包头不包尾):\\n',n510[0:2,1:4])\n",
    "\n",
    "# 通过bool类型来取数据\n",
    "mod2 = n510%2 == 0\n",
    "print(mod2)\n",
    "print('取出被2整除的所有数据:',n510[mod2])\n",
    "print('取出第3列中被4整除的所有行数据',n510[n510[:,2] %4 == 0])\n",
    "mod23 = (n510%2 == 0) & (n510%3 == 0)\n",
    "print('取出被2和3都能整除的所有数据:',n510[mod23])\n",
    "mod2or3 = (n510%2 == 0) | (n510%3 == 0)\n",
    "print('取出被2或者3能整除的所有数据:',n510[mod2or3])\n",
    "\n",
    "# 根据索引或者bool判断更新矩阵内值\n",
    "n510[:,1] = n510[:,1]*10\n",
    "print('第二列的数据都乘以10:',n510[:,1])\n",
    "n510[mod2] = n510[mod2]*10\n",
    "print('被2整除的数据都乘以10:', n510[mod2])"
   ]
  },
  {
   "cell_type": "code",
   "execution_count": 128,
   "metadata": {},
   "outputs": [
    {
     "name": "stdout",
     "output_type": "stream",
     "text": [
      "[10 15 20 25 30 35 40 45 50 55 60 65 70 75 80 85 90 95]\n",
      "向量大小: 18\n",
      "[[10 15 20 25 30 35]\n",
      " [40 45 50 55 60 65]\n",
      " [70 75 80 85 90 95]]\n",
      "-------------------\n",
      "求和: 945\n",
      "按行求和: [135 315 495]\n",
      "按列求和: [120 135 150 165 180 195]\n",
      "最大值: 95\n",
      "每行最大值: [35 65 95]\n",
      "每列最大值: [70 75 80 85 90 95]\n",
      "最小值: 10\n",
      "每行最小值: [10 40 70]\n",
      "每列最小值: [10 15 20 25 30 35]\n",
      "平均值: 52.5\n",
      "每行平均值: [ 22.5  52.5  82.5]\n",
      "每列平均值: [ 40.  45.  50.  55.  60.  65.]\n",
      "最大值索引: 17\n",
      "每行最大值索引: [5 5 5]\n",
      "每列最大值索引: [2 2 2 2 2 2]\n",
      "log值: [[ 2.30258509  2.7080502   2.99573227  3.21887582  3.40119738  3.55534806]\n",
      " [ 3.68887945  3.80666249  3.91202301  4.00733319  4.09434456  4.17438727]\n",
      " [ 4.24849524  4.31748811  4.38202663  4.44265126  4.49980967  4.55387689]]\n",
      "log10值: [[ 1.          1.17609126  1.30103     1.39794001  1.47712125  1.54406804]\n",
      " [ 1.60205999  1.65321251  1.69897     1.74036269  1.77815125  1.81291336]\n",
      " [ 1.84509804  1.87506126  1.90308999  1.92941893  1.95424251  1.97772361]]\n",
      "log2值: [[ 3.32192809  3.9068906   4.32192809  4.64385619  4.9068906   5.12928302]\n",
      " [ 5.32192809  5.4918531   5.64385619  5.78135971  5.9068906   6.02236781]\n",
      " [ 6.12928302  6.22881869  6.32192809  6.40939094  6.4918531   6.56985561]]\n",
      "指数值: [[  2.20264658e+04   3.26901737e+06   4.85165195e+08   7.20048993e+10\n",
      "    1.06864746e+13   1.58601345e+15]\n",
      " [  2.35385267e+17   3.49342711e+19   5.18470553e+21   7.69478527e+23\n",
      "    1.14200739e+26   1.69488924e+28]\n",
      " [  2.51543867e+30   3.73324200e+32   5.54062238e+34   8.22301271e+36\n",
      "    1.22040329e+39   1.81123908e+41]]\n",
      "开根号: [[ 3.16227766  3.87298335  4.47213595  5.          5.47722558  5.91607978]\n",
      " [ 6.32455532  6.70820393  7.07106781  7.41619849  7.74596669  8.06225775]\n",
      " [ 8.36660027  8.66025404  8.94427191  9.21954446  9.48683298  9.74679434]]\n",
      "--------------------\n",
      "[[ 2.72738759  4.47390827  1.6864347   0.05761157]\n",
      " [ 3.91951862  2.67037232  2.13805217  0.32461143]\n",
      " [ 1.59112855  9.45241643  6.61182339  8.84599646]]\n",
      "小数向下取整: [[ 2.  4.  1.  0.]\n",
      " [ 3.  2.  2.  0.]\n",
      " [ 1.  9.  6.  8.]]\n",
      "小数向上取整: [[  3.   5.   2.   1.]\n",
      " [  4.   3.   3.   1.]\n",
      " [  2.  10.   7.   9.]]\n"
     ]
    }
   ],
   "source": [
    "# 矩阵求和，最大值，最小值，平均值，log，开根号，平方，小数向下取整\n",
    "a = np.arange(10,100,5)\n",
    "print(a)\n",
    "print('向量大小:',a.size)\n",
    "a36 = a.reshape(3,6)\n",
    "print(a36)\n",
    "print('-------------------')\n",
    "print('求和:',a36.sum())\n",
    "print('按行求和:',a36.sum(axis=1))\n",
    "print('按列求和:',a36.sum(axis=0))\n",
    "print('最大值:',a36.max())\n",
    "print('每行最大值:',a36.max(axis=1))\n",
    "print('每列最大值:',a36.max(axis=0))\n",
    "print('最小值:',a36.min())\n",
    "print('每行最小值:',a36.min(axis=1))\n",
    "print('每列最小值:',a36.min(axis=0))\n",
    "print('平均值:',a36.mean())\n",
    "print('每行平均值:',a36.mean(axis=1))\n",
    "print('每列平均值:',a36.mean(axis=0))\n",
    "print('最大值索引:',a36.argmax())\n",
    "print('每行最大值索引:',a36.argmax(axis=1))\n",
    "print('每列最大值索引:',a36.argmax(axis=0))\n",
    "print('log值:',np.log(a36))\n",
    "print('log10值:',np.log10(a36))\n",
    "print('log2值:',np.log2(a36))\n",
    "print('指数值:',np.exp(a36))\n",
    "print('平方根:',np.sqrt(a36))\n",
    "print('--------------------')\n",
    "a = np.random.random((3,4))*10\n",
    "print(a)\n",
    "print('小数向下取整:',np.floor(a))\n",
    "print('小数向上取整:',np.ceil(a))"
   ]
  },
  {
   "cell_type": "code",
   "execution_count": 130,
   "metadata": {},
   "outputs": [
    {
     "name": "stdout",
     "output_type": "stream",
     "text": [
      "[ 0  1  2  3  4  5  6  7  8  9 10 11]\n",
      "[[ 0  1  2  3]\n",
      " [ 4  5  6  7]\n",
      " [ 8  9 10 11]]\n",
      "[[ 0  2  4  6]\n",
      " [ 8 10 12 14]\n",
      " [16 18 20 22]]\n",
      "[[  0   1   4   9]\n",
      " [ 16  25  36  49]\n",
      " [ 64  81 100 121]]\n",
      "[[ 0  1  2]\n",
      " [ 3  4  5]\n",
      " [ 6  7  8]\n",
      " [ 9 10 11]]\n",
      "dot(): [[ 20  23  26  29]\n",
      " [ 56  68  80  92]\n",
      " [ 92 113 134 155]\n",
      " [128 158 188 218]]\n"
     ]
    }
   ],
   "source": [
    "# 矩阵加减乘除\n",
    "a12 = np.arange(12)\n",
    "print(a12)\n",
    "a34 = a12.reshape(3,4)\n",
    "print(a34)\n",
    "## 结构一样的可直接用 + * - / 符号进行运算\n",
    "print(a34 + a34)\n",
    "print(a34 * a34)\n",
    "a43 = a12.reshape(4,3)\n",
    "print(a43)\n",
    "## 结构不一样的用dot()进行运算\n",
    "print('dot():',np.dot(a43,a34))"
   ]
  },
  {
   "cell_type": "code",
   "execution_count": 8,
   "metadata": {},
   "outputs": [
    {
     "name": "stdout",
     "output_type": "stream",
     "text": [
      "[[ 0.81740435  0.18326177  0.19410311]\n",
      " [ 0.02958808  0.14704027  0.21064844]]\n",
      "[[ 0.71639844  0.52157746]\n",
      " [ 0.42017326  0.86160536]]\n",
      "按行拼接:\n",
      " [[ 0.81740435  0.18326177  0.19410311  0.71639844  0.52157746]\n",
      " [ 0.02958808  0.14704027  0.21064844  0.42017326  0.86160536]]\n",
      "按列拼接:\n",
      " [[ 0.81740435  0.18326177  0.19410311]\n",
      " [ 0.02958808  0.14704027  0.21064844]\n",
      " [ 0.28041683  0.23148258  0.4907985 ]\n",
      " [ 0.30425217  0.48922469  0.61269412]\n",
      " [ 0.45837732  0.82283297  0.9637865 ]\n",
      " [ 0.62579663  0.94368029  0.07839355]]\n",
      "按列平均拆成3份:\n",
      " [array([[ 0.81740435],\n",
      "       [ 0.02958808],\n",
      "       [ 0.28041683],\n",
      "       [ 0.30425217],\n",
      "       [ 0.45837732],\n",
      "       [ 0.62579663]]), array([[ 0.18326177],\n",
      "       [ 0.14704027],\n",
      "       [ 0.23148258],\n",
      "       [ 0.48922469],\n",
      "       [ 0.82283297],\n",
      "       [ 0.94368029]]), array([[ 0.19410311],\n",
      "       [ 0.21064844],\n",
      "       [ 0.4907985 ],\n",
      "       [ 0.61269412],\n",
      "       [ 0.9637865 ],\n",
      "       [ 0.07839355]])]\n",
      "指定列索引位置拆分，索引1和索引2处各切一刀:\n",
      " [array([[ 0.81740435],\n",
      "       [ 0.02958808],\n",
      "       [ 0.28041683],\n",
      "       [ 0.30425217],\n",
      "       [ 0.45837732],\n",
      "       [ 0.62579663]]), array([[ 0.18326177],\n",
      "       [ 0.14704027],\n",
      "       [ 0.23148258],\n",
      "       [ 0.48922469],\n",
      "       [ 0.82283297],\n",
      "       [ 0.94368029]]), array([[ 0.19410311],\n",
      "       [ 0.21064844],\n",
      "       [ 0.4907985 ],\n",
      "       [ 0.61269412],\n",
      "       [ 0.9637865 ],\n",
      "       [ 0.07839355]])]\n",
      "按行平均拆成3份:\n",
      " [array([[ 0.81740435,  0.18326177,  0.19410311],\n",
      "       [ 0.02958808,  0.14704027,  0.21064844]]), array([[ 0.28041683,  0.23148258,  0.4907985 ],\n",
      "       [ 0.30425217,  0.48922469,  0.61269412]]), array([[ 0.45837732,  0.82283297,  0.9637865 ],\n",
      "       [ 0.62579663,  0.94368029,  0.07839355]])]\n",
      "指定行索引位置拆分，索引1和索引3处各切一刀:\n",
      " [array([[ 0.81740435,  0.18326177,  0.19410311]]), array([[ 0.02958808,  0.14704027,  0.21064844],\n",
      "       [ 0.28041683,  0.23148258,  0.4907985 ]]), array([[ 0.30425217,  0.48922469,  0.61269412],\n",
      "       [ 0.45837732,  0.82283297,  0.9637865 ],\n",
      "       [ 0.62579663,  0.94368029,  0.07839355]])]\n"
     ]
    }
   ],
   "source": [
    "# 矩阵拼接和拆分\n",
    "r23 = np.random.random((2,3))\n",
    "r22 = np.random.random((2,2))\n",
    "print(r23)\n",
    "print(r22)\n",
    "## 按行拼接两个矩阵的行数必须一样\n",
    "print('按行拼接:\\n',np.hstack((r23,r22)))\n",
    "## 按列拼接两个矩阵的列数必须一样\n",
    "r53 = np.vstack((r23,np.random.random((4,3))))\n",
    "print('按列拼接:\\n',r53)\n",
    "\n",
    "print('按列平均拆成3份:\\n',np.hsplit(r53,3))\n",
    "print('指定列索引位置拆分，索引1和索引2处各切一刀:\\n',np.hsplit(r53,(1,2)))\n",
    "print('按行平均拆成3份:\\n',np.vsplit(r53,3))\n",
    "print('指定行索引位置拆分，索引1和索引3处各切一刀:\\n',np.vsplit(r53,(1,3)))"
   ]
  },
  {
   "cell_type": "code",
   "execution_count": 153,
   "metadata": {},
   "outputs": [
    {
     "name": "stdout",
     "output_type": "stream",
     "text": [
      "Help on function split in module numpy.lib.shape_base:\n",
      "\n",
      "split(ary, indices_or_sections, axis=0)\n",
      "    Split an array into multiple sub-arrays.\n",
      "    \n",
      "    Parameters\n",
      "    ----------\n",
      "    ary : ndarray\n",
      "        Array to be divided into sub-arrays.\n",
      "    indices_or_sections : int or 1-D array\n",
      "        If `indices_or_sections` is an integer, N, the array will be divided\n",
      "        into N equal arrays along `axis`.  If such a split is not possible,\n",
      "        an error is raised.\n",
      "    \n",
      "        If `indices_or_sections` is a 1-D array of sorted integers, the entries\n",
      "        indicate where along `axis` the array is split.  For example,\n",
      "        ``[2, 3]`` would, for ``axis=0``, result in\n",
      "    \n",
      "          - ary[:2]\n",
      "          - ary[2:3]\n",
      "          - ary[3:]\n",
      "    \n",
      "        If an index exceeds the dimension of the array along `axis`,\n",
      "        an empty sub-array is returned correspondingly.\n",
      "    axis : int, optional\n",
      "        The axis along which to split, default is 0.\n",
      "    \n",
      "    Returns\n",
      "    -------\n",
      "    sub-arrays : list of ndarrays\n",
      "        A list of sub-arrays.\n",
      "    \n",
      "    Raises\n",
      "    ------\n",
      "    ValueError\n",
      "        If `indices_or_sections` is given as an integer, but\n",
      "        a split does not result in equal division.\n",
      "    \n",
      "    See Also\n",
      "    --------\n",
      "    array_split : Split an array into multiple sub-arrays of equal or\n",
      "                  near-equal size.  Does not raise an exception if\n",
      "                  an equal division cannot be made.\n",
      "    hsplit : Split array into multiple sub-arrays horizontally (column-wise).\n",
      "    vsplit : Split array into multiple sub-arrays vertically (row wise).\n",
      "    dsplit : Split array into multiple sub-arrays along the 3rd axis (depth).\n",
      "    concatenate : Join a sequence of arrays along an existing axis.\n",
      "    stack : Join a sequence of arrays along a new axis.\n",
      "    hstack : Stack arrays in sequence horizontally (column wise).\n",
      "    vstack : Stack arrays in sequence vertically (row wise).\n",
      "    dstack : Stack arrays in sequence depth wise (along third dimension).\n",
      "    \n",
      "    Examples\n",
      "    --------\n",
      "    >>> x = np.arange(9.0)\n",
      "    >>> np.split(x, 3)\n",
      "    [array([ 0.,  1.,  2.]), array([ 3.,  4.,  5.]), array([ 6.,  7.,  8.])]\n",
      "    \n",
      "    >>> x = np.arange(8.0)\n",
      "    >>> np.split(x, [3, 5, 6, 10])\n",
      "    [array([ 0.,  1.,  2.]),\n",
      "     array([ 3.,  4.]),\n",
      "     array([ 5.]),\n",
      "     array([ 6.,  7.]),\n",
      "     array([], dtype=float64)]\n",
      "\n",
      "None\n"
     ]
    }
   ],
   "source": [
    "print(help(np.split))"
   ]
  }
 ],
 "metadata": {
  "kernelspec": {
   "display_name": "Python 3",
   "language": "python",
   "name": "python3"
  },
  "language_info": {
   "codemirror_mode": {
    "name": "ipython",
    "version": 3
   },
   "file_extension": ".py",
   "mimetype": "text/x-python",
   "name": "python",
   "nbconvert_exporter": "python",
   "pygments_lexer": "ipython3",
   "version": "3.6.1"
  }
 },
 "nbformat": 4,
 "nbformat_minor": 2
}
